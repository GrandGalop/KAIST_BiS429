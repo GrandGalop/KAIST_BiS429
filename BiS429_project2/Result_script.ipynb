device [cuda]
loading MNIST data...
img_train (784, 60000) img_test (784, 10000) label_train (10, 60000) label_test (10, 10000)
performing preprocessing...

epoch 0
training on 469 batches of size 128
testing on 79 batches of size 128
average accuracy 0.5360957278481012

epoch 1
training on 469 batches of size 128
testing on 79 batches of size 128
average accuracy 0.9140625

epoch 2
training on 469 batches of size 128
testing on 79 batches of size 128
average accuracy 0.9186115506329114

epoch 3
training on 469 batches of size 128
testing on 79 batches of size 128
average accuracy 0.9065466772151899

epoch 4
training on 469 batches of size 128
testing on 79 batches of size 128
average accuracy 0.914754746835443

epoch 5
training on 469 batches of size 128
testing on 79 batches of size 128
average accuracy 0.9156447784810127

epoch 6
training on 469 batches of size 128
testing on 79 batches of size 128
average accuracy 0.939873417721519

epoch 7
training on 469 batches of size 128
testing on 79 batches of size 128
average accuracy 0.9452136075949367

epoch 8
training on 469 batches of size 128
testing on 79 batches of size 128
average accuracy 0.889932753164557

epoch 9
training on 469 batches of size 128
testing on 79 batches of size 128
average accuracy 0.9491693037974683

epoch 10
training on 469 batches of size 128
testing on 79 batches of size 128
average accuracy 0.9475870253164557

epoch 11
training on 469 batches of size 128
testing on 79 batches of size 128
average accuracy 0.9584651898734177

epoch 12
training on 469 batches of size 128
testing on 79 batches of size 128
average accuracy 0.9608386075949367

epoch 13
training on 469 batches of size 128
testing on 79 batches of size 128
average accuracy 0.9668710443037974

epoch 14
training on 469 batches of size 128
testing on 79 batches of size 128
average accuracy 0.9628164556962026

epoch 15
training on 469 batches of size 128
testing on 79 batches of size 128
average accuracy 0.9667721518987342

epoch 16
training on 469 batches of size 128
testing on 79 batches of size 128
average accuracy 0.967068829113924

epoch 17
training on 469 batches of size 128
testing on 79 batches of size 128
average accuracy 0.965684335443038

epoch 18
training on 469 batches of size 128
testing on 79 batches of size 128
average accuracy 0.9689477848101266

epoch 19
training on 469 batches of size 128
testing on 79 batches of size 128
average accuracy 0.9689477848101266

epoch 20
training on 469 batches of size 128
testing on 79 batches of size 128
average accuracy 0.9677610759493671

epoch 21
training on 469 batches of size 128
testing on 79 batches of size 128
average accuracy 0.9697389240506329

epoch 22
training on 469 batches of size 128
testing on 79 batches of size 128
average accuracy 0.9690466772151899

epoch 23
training on 469 batches of size 128
testing on 79 batches of size 128
average accuracy 0.9692444620253164

epoch 24
training on 469 batches of size 128
testing on 79 batches of size 128
average accuracy 0.9653876582278481

epoch 25
training on 469 batches of size 128
testing on 79 batches of size 128
average accuracy 0.9706289556962026

epoch 26
training on 469 batches of size 128
testing on 79 batches of size 128
average accuracy 0.9698378164556962

epoch 27
training on 469 batches of size 128
testing on 79 batches of size 128
average accuracy 0.9679588607594937

epoch 28
training on 469 batches of size 128
testing on 79 batches of size 128
average accuracy 0.9659810126582279

epoch 29
training on 469 batches of size 128
testing on 79 batches of size 128
average accuracy 0.9715189873417721

epoch 30
training on 469 batches of size 128
testing on 79 batches of size 128
average accuracy 0.9675632911392406

epoch 31
training on 469 batches of size 128
testing on 79 batches of size 128
average accuracy 0.9676621835443038

epoch 32
training on 469 batches of size 128
testing on 79 batches of size 128
average accuracy 0.9686511075949367

epoch 33
training on 469 batches of size 128
testing on 79 batches of size 128
average accuracy 0.9683544303797469

epoch 34
training on 469 batches of size 128
testing on 79 batches of size 128
average accuracy 0.9691455696202531

epoch 35
training on 469 batches of size 128
testing on 79 batches of size 128
average accuracy 0.9707278481012658

epoch 36
training on 469 batches of size 128
testing on 79 batches of size 128
average accuracy 0.9716178797468354

epoch 37
training on 469 batches of size 128
testing on 79 batches of size 128
average accuracy 0.9671677215189873

epoch 38
training on 469 batches of size 128
testing on 79 batches of size 128
average accuracy 0.9698378164556962

epoch 39
training on 469 batches of size 128
testing on 79 batches of size 128
average accuracy 0.9725079113924051

epoch 40
training on 469 batches of size 128
testing on 79 batches of size 128
average accuracy 0.9707278481012658

epoch 41
training on 469 batches of size 128
testing on 79 batches of size 128
average accuracy 0.966376582278481

epoch 42
training on 469 batches of size 128
testing on 79 batches of size 128
average accuracy 0.9690466772151899

epoch 43
training on 469 batches of size 128
testing on 79 batches of size 128
average accuracy 0.971815664556962

epoch 44
training on 469 batches of size 128
testing on 79 batches of size 128
average accuracy 0.9702333860759493

epoch 45
training on 469 batches of size 128
testing on 79 batches of size 128
average accuracy 0.9730023734177216

epoch 46
training on 469 batches of size 128
testing on 79 batches of size 128
average accuracy 0.9714200949367089

epoch 47
training on 469 batches of size 128
testing on 79 batches of size 128
average accuracy 0.973496835443038

epoch 48
training on 469 batches of size 128
testing on 79 batches of size 128
average accuracy 0.9723101265822784

epoch 49
training on 469 batches of size 128
testing on 79 batches of size 128
average accuracy 0.9724090189873418

epoch 50
training on 469 batches of size 128
testing on 79 batches of size 128
average accuracy 0.9710245253164557

epoch 51
training on 469 batches of size 128
testing on 79 batches of size 128
average accuracy 0.9740901898734177

epoch 52
training on 469 batches of size 128
testing on 79 batches of size 128
average accuracy 0.9752768987341772

epoch 53
training on 469 batches of size 128
testing on 79 batches of size 128
average accuracy 0.9732990506329114

epoch 54
training on 469 batches of size 128
testing on 79 batches of size 128
average accuracy 0.9729034810126582

epoch 55
training on 469 batches of size 128
testing on 79 batches of size 128
average accuracy 0.9716178797468354

epoch 56
training on 469 batches of size 128
testing on 79 batches of size 128
average accuracy 0.9737935126582279

epoch 57
training on 469 batches of size 128
testing on 79 batches of size 128
average accuracy 0.9728045886075949

epoch 58
training on 469 batches of size 128
testing on 79 batches of size 128
average accuracy 0.9732990506329114

epoch 59
training on 469 batches of size 128
testing on 79 batches of size 128
average accuracy 0.9744857594936709

epoch 60
training on 469 batches of size 128
testing on 79 batches of size 128
average accuracy 0.9742879746835443

epoch 61
training on 469 batches of size 128
testing on 79 batches of size 128
average accuracy 0.9724090189873418

epoch 62
training on 469 batches of size 128
testing on 79 batches of size 128
average accuracy 0.9732990506329114

epoch 63
training on 469 batches of size 128
testing on 79 batches of size 128
average accuracy 0.9737935126582279

epoch 64
training on 469 batches of size 128
testing on 79 batches of size 128
average accuracy 0.9719145569620253

epoch 65
training on 469 batches of size 128
testing on 79 batches of size 128
average accuracy 0.9753757911392406

epoch 66
training on 469 batches of size 128
testing on 79 batches of size 128
average accuracy 0.973496835443038

epoch 67
training on 469 batches of size 128
testing on 79 batches of size 128
average accuracy 0.9702333860759493

epoch 68
training on 469 batches of size 128
testing on 79 batches of size 128
average accuracy 0.9742879746835443

epoch 69
training on 469 batches of size 128
testing on 79 batches of size 128
average accuracy 0.9697389240506329

epoch 70
training on 469 batches of size 128
testing on 79 batches of size 128
average accuracy 0.9719145569620253

epoch 71
training on 469 batches of size 128
testing on 79 batches of size 128
average accuracy 0.9759691455696202

epoch 72
training on 469 batches of size 128
testing on 79 batches of size 128
average accuracy 0.9735957278481012

epoch 73
training on 469 batches of size 128
testing on 79 batches of size 128
average accuracy 0.9755735759493671

epoch 74
training on 469 batches of size 128
testing on 79 batches of size 128
average accuracy 0.9759691455696202

epoch 75
training on 469 batches of size 128
testing on 79 batches of size 128
average accuracy 0.9742879746835443

epoch 76
training on 469 batches of size 128
testing on 79 batches of size 128
average accuracy 0.9746835443037974

epoch 77
training on 469 batches of size 128
testing on 79 batches of size 128
average accuracy 0.9746835443037974

epoch 78
training on 469 batches of size 128
testing on 79 batches of size 128
average accuracy 0.9710245253164557

epoch 79
training on 469 batches of size 128
testing on 79 batches of size 128
average accuracy 0.9698378164556962

epoch 80
training on 469 batches of size 128
testing on 79 batches of size 128
average accuracy 0.9572784810126582

epoch 81
training on 469 batches of size 128
testing on 79 batches of size 128
average accuracy 0.9642009493670886

epoch 82
training on 469 batches of size 128
testing on 79 batches of size 128
average accuracy 0.962618670886076

epoch 83
training on 469 batches of size 128
testing on 79 batches of size 128
average accuracy 0.963310917721519

epoch 84
training on 469 batches of size 128
testing on 79 batches of size 128
average accuracy 0.9681566455696202

epoch 85
training on 469 batches of size 128
testing on 79 batches of size 128
average accuracy 0.9662776898734177

epoch 86
training on 469 batches of size 128
testing on 79 batches of size 128
average accuracy 0.9702333860759493

epoch 87
training on 469 batches of size 128
testing on 79 batches of size 128
average accuracy 0.9655854430379747

epoch 88
training on 469 batches of size 128
testing on 79 batches of size 128
average accuracy 0.9677610759493671

epoch 89
training on 469 batches of size 128
testing on 79 batches of size 128
average accuracy 0.9686511075949367

epoch 90
training on 469 batches of size 128
testing on 79 batches of size 128
average accuracy 0.9683544303797469

epoch 91
training on 469 batches of size 128
testing on 79 batches of size 128
average accuracy 0.9683544303797469

epoch 92
training on 469 batches of size 128
testing on 79 batches of size 128
average accuracy 0.96875

epoch 93
training on 469 batches of size 128
testing on 79 batches of size 128
average accuracy 0.966376582278481

epoch 94
training on 469 batches of size 128
testing on 79 batches of size 128
average accuracy 0.943631329113924

epoch 95
training on 469 batches of size 128
testing on 79 batches of size 128
average accuracy 0.9526305379746836

epoch 96
training on 469 batches of size 128
testing on 79 batches of size 128
average accuracy 0.9541139240506329

epoch 97
training on 469 batches of size 128
testing on 79 batches of size 128
average accuracy 0.9614319620253164

epoch 98
training on 469 batches of size 128
testing on 79 batches of size 128
average accuracy 0.9613330696202531

epoch 99
training on 469 batches of size 128
testing on 79 batches of size 128
average accuracy 0.9622231012658228
